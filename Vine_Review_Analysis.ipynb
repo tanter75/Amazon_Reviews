{
  "nbformat": 4,
  "nbformat_minor": 0,
  "metadata": {
    "colab": {
      "name": "Vine_Review_Analysis.ipynb",
      "provenance": [],
      "include_colab_link": true
    },
    "kernelspec": {
      "name": "python3",
      "display_name": "Python 3"
    },
    "nteract": {
      "version": "0.12.3"
    },
    "language_info": {
      "name": "python"
    }
  },
  "cells": [
    {
      "cell_type": "markdown",
      "metadata": {
        "id": "view-in-github",
        "colab_type": "text"
      },
      "source": [
        "<a href=\"https://colab.research.google.com/github/tanter75/Amazon_Reviews/blob/main/Vine_Review_Analysis.ipynb\" target=\"_parent\"><img src=\"https://colab.research.google.com/assets/colab-badge.svg\" alt=\"Open In Colab\"/></a>"
      ]
    },
    {
      "cell_type": "code",
      "metadata": {
        "id": "V58rxea0HqSa",
        "colab": {
          "base_uri": "https://localhost:8080/"
        },
        "outputId": "0b4469d8-84a8-43f9-e50c-93985b7955f9"
      },
      "source": [
        "import os\n",
        "# Find the latest version of spark 3.0 from http://www.apache.org/dist/spark/ and enter as the spark version\n",
        "# For example:\n",
        "# spark_version = 'spark-3.0.3'\n",
        "spark_version = 'spark-3.0.3'\n",
        "os.environ['SPARK_VERSION']=spark_version\n",
        "\n",
        "# Install Spark and Java\n",
        "!apt-get update\n",
        "!apt-get install openjdk-11-jdk-headless -qq > /dev/null\n",
        "!wget -q http://www.apache.org/dist/spark/$SPARK_VERSION/$SPARK_VERSION-bin-hadoop2.7.tgz\n",
        "!tar xf $SPARK_VERSION-bin-hadoop2.7.tgz\n",
        "!pip install -q findspark\n",
        "\n",
        "# Set Environment Variables\n",
        "import os\n",
        "os.environ[\"JAVA_HOME\"] = \"/usr/lib/jvm/java-11-openjdk-amd64\"\n",
        "os.environ[\"SPARK_HOME\"] = f\"/content/{spark_version}-bin-hadoop2.7\"\n",
        "\n",
        "# Start a SparkSession\n",
        "import findspark\n",
        "findspark.init()"
      ],
      "execution_count": 1,
      "outputs": [
        {
          "output_type": "stream",
          "name": "stdout",
          "text": [
            "\r0% [Working]\r            \rHit:1 http://ppa.launchpad.net/c2d4u.team/c2d4u4.0+/ubuntu bionic InRelease\n",
            "\r0% [Connecting to archive.ubuntu.com (91.189.88.152)] [Connecting to security.u\r0% [1 InRelease gpgv 15.9 kB] [Waiting for headers] [Connecting to security.ubu\r                                                                               \rHit:2 http://archive.ubuntu.com/ubuntu bionic InRelease\n",
            "\r0% [1 InRelease gpgv 15.9 kB] [Waiting for headers] [Connecting to security.ubu\r                                                                               \rHit:3 http://ppa.launchpad.net/cran/libgit2/ubuntu bionic InRelease\n",
            "\r0% [1 InRelease gpgv 15.9 kB] [Waiting for headers] [Connecting to security.ubu\r                                                                               \rGet:4 http://archive.ubuntu.com/ubuntu bionic-updates InRelease [88.7 kB]\n",
            "\r0% [1 InRelease gpgv 15.9 kB] [4 InRelease 14.2 kB/88.7 kB 16%] [Connecting to \r                                                                               \rHit:5 http://ppa.launchpad.net/deadsnakes/ppa/ubuntu bionic InRelease\n",
            "\r0% [1 InRelease gpgv 15.9 kB] [4 InRelease 41.7 kB/88.7 kB 47%] [Connecting to \r0% [1 InRelease gpgv 15.9 kB] [Waiting for headers] [Connecting to security.ubu\r                                                                               \rHit:6 http://ppa.launchpad.net/graphics-drivers/ppa/ubuntu bionic InRelease\n",
            "\r0% [1 InRelease gpgv 15.9 kB] [Waiting for headers] [Waiting for headers] [Conn\r                                                                               \rGet:7 http://archive.ubuntu.com/ubuntu bionic-backports InRelease [74.6 kB]\n",
            "\r0% [1 InRelease gpgv 15.9 kB] [7 InRelease 20.0 kB/74.6 kB 27%] [Waiting for he\r0% [1 InRelease gpgv 15.9 kB] [Waiting for headers] [Waiting for headers] [Wait\r                                                                               \rHit:8 https://cloud.r-project.org/bin/linux/ubuntu bionic-cran40/ InRelease\n",
            "Get:9 http://security.ubuntu.com/ubuntu bionic-security InRelease [88.7 kB]\n",
            "Ign:10 https://developer.download.nvidia.com/compute/cuda/repos/ubuntu1804/x86_64  InRelease\n",
            "Ign:11 https://developer.download.nvidia.com/compute/machine-learning/repos/ubuntu1804/x86_64  InRelease\n",
            "Hit:12 https://developer.download.nvidia.com/compute/cuda/repos/ubuntu1804/x86_64  Release\n",
            "Hit:13 https://developer.download.nvidia.com/compute/machine-learning/repos/ubuntu1804/x86_64  Release\n",
            "Fetched 252 kB in 2s (148 kB/s)\n",
            "Reading package lists... Done\n"
          ]
        }
      ]
    },
    {
      "cell_type": "code",
      "metadata": {
        "id": "MMqDAjVS0KN9"
      },
      "source": [
        "from pyspark.sql import SparkSession\n",
        "spark = SparkSession.builder.appName(\"M16-Amazon-Challenge\").getOrCreate()"
      ],
      "execution_count": 2,
      "outputs": []
    },
    {
      "cell_type": "markdown",
      "metadata": {
        "id": "cyBsySGuY-9V"
      },
      "source": [
        "### Load Amazon Data into Spark DataFrame"
      ]
    },
    {
      "cell_type": "code",
      "metadata": {
        "id": "CtCmBhQJY-9Z",
        "colab": {
          "base_uri": "https://localhost:8080/"
        },
        "outputId": "785f9406-4ed0-4ded-c6b5-e9688059e675"
      },
      "source": [
        "from pyspark import SparkFiles\n",
        "url = \"https://s3.amazonaws.com/amazon-reviews-pds/tsv/amazon_reviews_us_Home_Entertainment_v1_00.tsv.gz\"\n",
        "spark.sparkContext.addFile(url)\n",
        "df = spark.read.option(\"encoding\", \"UTF-8\").csv(SparkFiles.get(\"\"), sep=\"\\t\", header=True, inferSchema=True)\n",
        "df.show()"
      ],
      "execution_count": 3,
      "outputs": [
        {
          "output_type": "stream",
          "name": "stdout",
          "text": [
            "+-----------+-----------+--------------+----------+--------------+--------------------+------------------+-----------+-------------+-----------+----+-----------------+--------------------+--------------------+-----------+\n",
            "|marketplace|customer_id|     review_id|product_id|product_parent|       product_title|  product_category|star_rating|helpful_votes|total_votes|vine|verified_purchase|     review_headline|         review_body|review_date|\n",
            "+-----------+-----------+--------------+----------+--------------+--------------------+------------------+-----------+-------------+-----------+----+-----------------+--------------------+--------------------+-----------+\n",
            "|         US|     179886| RY01SAV7HZ8QO|B00NTI0CQ2|     667358431|Aketek 1080P LED ...|Home Entertainment|          4|            0|          0|   N|                Y|good enough for m...|not the best pict...| 2015-08-31|\n",
            "|         US|   37293769|R1XX8SDGJ4MZ4L|B00BUCLVZU|     621695622|TiVo Mini with IR...|Home Entertainment|          5|            0|          0|   N|                N|Tell the Cable Co...|Not only do my Ti...| 2015-08-31|\n",
            "|         US|    8332121|R149Q3B5L33NN5|B00RBX9D5W|     143071132|Apple TV MD199LL/...|Home Entertainment|          5|            0|          0|   N|                Y|    Works perfectly!|Works perfectly! ...| 2015-08-31|\n",
            "|         US|   47054962|R2ZVD69Z6KPJ4O|B00UJ3IULO|     567816707|New Roku 3 6.5 Fo...|Home Entertainment|          1|            0|          2|   N|                Y|It doesn't work. ...|It doesn't work. ...| 2015-08-31|\n",
            "|         US|   23413911|R1DIKG2G33ZLNP|B0037UCTXG|     909557698|Generic DVI-I Dua...|Home Entertainment|          4|            0|          0|   N|                Y|         As pictured|I received the it...| 2015-08-31|\n",
            "|         US|    4417771|R3L6FGKAW0EYFI|B004N866SU|     414565179|Samsung 3D LED HD...|Home Entertainment|          1|            1|          1|   N|                N|Only lasts 3-4 ye...|I bought this TV ...| 2015-08-31|\n",
            "|         US|   47900707| RAO0QZH5VC6VI|B00JE6AOJS|     798450889|Jiake Wireless Bl...|Home Entertainment|          1|            0|          0|   N|                Y|            One Star|    Waste of $$$$$$$| 2015-08-31|\n",
            "|         US|   34112894|R25IK0UAHWNB22|B00COL0B7A|     777554234|3pcs/lot 3in1 3ft...|Home Entertainment|          3|            0|          0|   N|                Y|         Three Stars|Nice but all thre...| 2015-08-31|\n",
            "|         US|   20691979|R2A9IHKZMTMAL1|B00QHLSKOE|     885228855|Matricom G-Box Q²...|Home Entertainment|          5|            1|          2|   N|                Y|Yes...exactly wha...|Oh, yeah...doesn'...| 2015-08-31|\n",
            "|         US|   25983343| R5XVKTHL6SITI|B00UNL2MUW|     164482798|VIZIO S2920W-C0B ...|Home Entertainment|          5|            0|          0|   N|                Y|Fantastic sound. ...|Fantastic sound. ...| 2015-08-31|\n",
            "|         US|   35816068|R2QZZOSTDDY1IE|B00RIC9JB4|     184834831|Hitachi 49\" Class...|Home Entertainment|          3|            3|          6|   N|                Y|               risky|Great tv but Tv d...| 2015-08-31|\n",
            "|         US|   10628020|R38CUDCFPSNYTD|B00HPMCO6O|     444378461|Sony BDPS5200 3D ...|Home Entertainment|          5|            0|          0|   N|                Y|          Five Stars|EXCELLENT SERVICE...| 2015-08-31|\n",
            "|         US|    9059625| RM6ZR6NH052YH|B004QGXWS6|     770226547|Sylvania 7-Inch T...|Home Entertainment|          3|            1|          2|   N|                Y|They worked great...|They worked great...| 2015-08-31|\n",
            "|         US|    2681147| RUQK5N4WH8UN8|B00FO12XY6|     448806082|Roku HD Streaming...|Home Entertainment|          5|            0|          0|   N|                Y|          Five Stars|Smooth and worked...| 2015-08-31|\n",
            "|         US|   33449922|R21LWSBQWWJYZ3|B00BD7UVO4|     374427271|LG Electronics BP...|Home Entertainment|          5|            0|          0|   N|                Y|          Five Stars|     Works very well| 2015-08-31|\n",
            "|         US|   43069144| R8W5S53RQ2DF7|B00TRQPEYK|     614207013|LG Electronics LF...|Home Entertainment|          5|            0|          0|   N|                Y|               LG TV|The TV arrived qu...| 2015-08-31|\n",
            "|         US|   46780686|R3ENME3JQBWXZS|B005STXQG8|     689442799|SquareTrade TV Pr...|Home Entertainment|          5|            0|          1|   N|                Y|          Five Stars|well worth the mo...| 2015-08-31|\n",
            "|         US|   49037595|R3URL5K7DHHYK7|B00BEL11RA|     910670994|Cambridge - Azur ...|Home Entertainment|          5|            1|          1|   N|                Y|            Love it.|Great Blu-ray pla...| 2015-08-31|\n",
            "|         US|   27868511|R22YISZKS35YZX|B00QHLSKOE|     885228855|Matricom G-Box Q²...|Home Entertainment|          5|            2|          3|   N|                Y|If your on the fe...|Great media cente...| 2015-08-31|\n",
            "|         US|    3004043|R3IIOLWHWC297U|B00MWCJ8VQ|     946374680|Roku 3500XB Strea...|Home Entertainment|          5|            0|          0|   N|                Y|          Five Stars|       great product| 2015-08-31|\n",
            "+-----------+-----------+--------------+----------+--------------+--------------------+------------------+-----------+-------------+-----------+----+-----------------+--------------------+--------------------+-----------+\n",
            "only showing top 20 rows\n",
            "\n"
          ]
        }
      ]
    },
    {
      "cell_type": "code",
      "metadata": {
        "colab": {
          "base_uri": "https://localhost:8080/"
        },
        "id": "B2fmkaucMNFT",
        "outputId": "4a70038a-4a4e-41a8-9e59-f7d58d80812e"
      },
      "source": [
        "df.dtypes"
      ],
      "execution_count": 4,
      "outputs": [
        {
          "output_type": "execute_result",
          "data": {
            "text/plain": [
              "[('marketplace', 'string'),\n",
              " ('customer_id', 'int'),\n",
              " ('review_id', 'string'),\n",
              " ('product_id', 'string'),\n",
              " ('product_parent', 'int'),\n",
              " ('product_title', 'string'),\n",
              " ('product_category', 'string'),\n",
              " ('star_rating', 'int'),\n",
              " ('helpful_votes', 'int'),\n",
              " ('total_votes', 'int'),\n",
              " ('vine', 'string'),\n",
              " ('verified_purchase', 'string'),\n",
              " ('review_headline', 'string'),\n",
              " ('review_body', 'string'),\n",
              " ('review_date', 'string')]"
            ]
          },
          "metadata": {},
          "execution_count": 4
        }
      ]
    },
    {
      "cell_type": "markdown",
      "metadata": {
        "id": "2yUSe55VY-9t"
      },
      "source": [
        "### Create DataFrames to match tables"
      ]
    },
    {
      "cell_type": "code",
      "metadata": {
        "id": "C8REmY1aY-9u",
        "colab": {
          "base_uri": "https://localhost:8080/"
        },
        "outputId": "f4483ce1-da3d-4482-9186-7bf658cfdc63"
      },
      "source": [
        "from pyspark.sql.functions import to_date\n",
        "# Read in the Review dataset as a DataFrame\n",
        "df.show()"
      ],
      "execution_count": 5,
      "outputs": [
        {
          "output_type": "stream",
          "name": "stdout",
          "text": [
            "+-----------+-----------+--------------+----------+--------------+--------------------+------------------+-----------+-------------+-----------+----+-----------------+--------------------+--------------------+-----------+\n",
            "|marketplace|customer_id|     review_id|product_id|product_parent|       product_title|  product_category|star_rating|helpful_votes|total_votes|vine|verified_purchase|     review_headline|         review_body|review_date|\n",
            "+-----------+-----------+--------------+----------+--------------+--------------------+------------------+-----------+-------------+-----------+----+-----------------+--------------------+--------------------+-----------+\n",
            "|         US|     179886| RY01SAV7HZ8QO|B00NTI0CQ2|     667358431|Aketek 1080P LED ...|Home Entertainment|          4|            0|          0|   N|                Y|good enough for m...|not the best pict...| 2015-08-31|\n",
            "|         US|   37293769|R1XX8SDGJ4MZ4L|B00BUCLVZU|     621695622|TiVo Mini with IR...|Home Entertainment|          5|            0|          0|   N|                N|Tell the Cable Co...|Not only do my Ti...| 2015-08-31|\n",
            "|         US|    8332121|R149Q3B5L33NN5|B00RBX9D5W|     143071132|Apple TV MD199LL/...|Home Entertainment|          5|            0|          0|   N|                Y|    Works perfectly!|Works perfectly! ...| 2015-08-31|\n",
            "|         US|   47054962|R2ZVD69Z6KPJ4O|B00UJ3IULO|     567816707|New Roku 3 6.5 Fo...|Home Entertainment|          1|            0|          2|   N|                Y|It doesn't work. ...|It doesn't work. ...| 2015-08-31|\n",
            "|         US|   23413911|R1DIKG2G33ZLNP|B0037UCTXG|     909557698|Generic DVI-I Dua...|Home Entertainment|          4|            0|          0|   N|                Y|         As pictured|I received the it...| 2015-08-31|\n",
            "|         US|    4417771|R3L6FGKAW0EYFI|B004N866SU|     414565179|Samsung 3D LED HD...|Home Entertainment|          1|            1|          1|   N|                N|Only lasts 3-4 ye...|I bought this TV ...| 2015-08-31|\n",
            "|         US|   47900707| RAO0QZH5VC6VI|B00JE6AOJS|     798450889|Jiake Wireless Bl...|Home Entertainment|          1|            0|          0|   N|                Y|            One Star|    Waste of $$$$$$$| 2015-08-31|\n",
            "|         US|   34112894|R25IK0UAHWNB22|B00COL0B7A|     777554234|3pcs/lot 3in1 3ft...|Home Entertainment|          3|            0|          0|   N|                Y|         Three Stars|Nice but all thre...| 2015-08-31|\n",
            "|         US|   20691979|R2A9IHKZMTMAL1|B00QHLSKOE|     885228855|Matricom G-Box Q²...|Home Entertainment|          5|            1|          2|   N|                Y|Yes...exactly wha...|Oh, yeah...doesn'...| 2015-08-31|\n",
            "|         US|   25983343| R5XVKTHL6SITI|B00UNL2MUW|     164482798|VIZIO S2920W-C0B ...|Home Entertainment|          5|            0|          0|   N|                Y|Fantastic sound. ...|Fantastic sound. ...| 2015-08-31|\n",
            "|         US|   35816068|R2QZZOSTDDY1IE|B00RIC9JB4|     184834831|Hitachi 49\" Class...|Home Entertainment|          3|            3|          6|   N|                Y|               risky|Great tv but Tv d...| 2015-08-31|\n",
            "|         US|   10628020|R38CUDCFPSNYTD|B00HPMCO6O|     444378461|Sony BDPS5200 3D ...|Home Entertainment|          5|            0|          0|   N|                Y|          Five Stars|EXCELLENT SERVICE...| 2015-08-31|\n",
            "|         US|    9059625| RM6ZR6NH052YH|B004QGXWS6|     770226547|Sylvania 7-Inch T...|Home Entertainment|          3|            1|          2|   N|                Y|They worked great...|They worked great...| 2015-08-31|\n",
            "|         US|    2681147| RUQK5N4WH8UN8|B00FO12XY6|     448806082|Roku HD Streaming...|Home Entertainment|          5|            0|          0|   N|                Y|          Five Stars|Smooth and worked...| 2015-08-31|\n",
            "|         US|   33449922|R21LWSBQWWJYZ3|B00BD7UVO4|     374427271|LG Electronics BP...|Home Entertainment|          5|            0|          0|   N|                Y|          Five Stars|     Works very well| 2015-08-31|\n",
            "|         US|   43069144| R8W5S53RQ2DF7|B00TRQPEYK|     614207013|LG Electronics LF...|Home Entertainment|          5|            0|          0|   N|                Y|               LG TV|The TV arrived qu...| 2015-08-31|\n",
            "|         US|   46780686|R3ENME3JQBWXZS|B005STXQG8|     689442799|SquareTrade TV Pr...|Home Entertainment|          5|            0|          1|   N|                Y|          Five Stars|well worth the mo...| 2015-08-31|\n",
            "|         US|   49037595|R3URL5K7DHHYK7|B00BEL11RA|     910670994|Cambridge - Azur ...|Home Entertainment|          5|            1|          1|   N|                Y|            Love it.|Great Blu-ray pla...| 2015-08-31|\n",
            "|         US|   27868511|R22YISZKS35YZX|B00QHLSKOE|     885228855|Matricom G-Box Q²...|Home Entertainment|          5|            2|          3|   N|                Y|If your on the fe...|Great media cente...| 2015-08-31|\n",
            "|         US|    3004043|R3IIOLWHWC297U|B00MWCJ8VQ|     946374680|Roku 3500XB Strea...|Home Entertainment|          5|            0|          0|   N|                Y|          Five Stars|       great product| 2015-08-31|\n",
            "+-----------+-----------+--------------+----------+--------------+--------------------+------------------+-----------+-------------+-----------+----+-----------------+--------------------+--------------------+-----------+\n",
            "only showing top 20 rows\n",
            "\n"
          ]
        }
      ]
    },
    {
      "cell_type": "code",
      "metadata": {
        "id": "lzMmkdKmY--D",
        "colab": {
          "base_uri": "https://localhost:8080/"
        },
        "outputId": "0414d5d8-f189-4cc5-de1c-9d8ef0d1ff6e"
      },
      "source": [
        "# Create the vine_table. DataFrame\n",
        "vine_df = df.select([\"review_id\", \"star_rating\", \"helpful_votes\", \"total_votes\", \"vine\", \"verified_purchase\"])\n",
        "vine_df.show()"
      ],
      "execution_count": 6,
      "outputs": [
        {
          "output_type": "stream",
          "name": "stdout",
          "text": [
            "+--------------+-----------+-------------+-----------+----+-----------------+\n",
            "|     review_id|star_rating|helpful_votes|total_votes|vine|verified_purchase|\n",
            "+--------------+-----------+-------------+-----------+----+-----------------+\n",
            "| RY01SAV7HZ8QO|          4|            0|          0|   N|                Y|\n",
            "|R1XX8SDGJ4MZ4L|          5|            0|          0|   N|                N|\n",
            "|R149Q3B5L33NN5|          5|            0|          0|   N|                Y|\n",
            "|R2ZVD69Z6KPJ4O|          1|            0|          2|   N|                Y|\n",
            "|R1DIKG2G33ZLNP|          4|            0|          0|   N|                Y|\n",
            "|R3L6FGKAW0EYFI|          1|            1|          1|   N|                N|\n",
            "| RAO0QZH5VC6VI|          1|            0|          0|   N|                Y|\n",
            "|R25IK0UAHWNB22|          3|            0|          0|   N|                Y|\n",
            "|R2A9IHKZMTMAL1|          5|            1|          2|   N|                Y|\n",
            "| R5XVKTHL6SITI|          5|            0|          0|   N|                Y|\n",
            "|R2QZZOSTDDY1IE|          3|            3|          6|   N|                Y|\n",
            "|R38CUDCFPSNYTD|          5|            0|          0|   N|                Y|\n",
            "| RM6ZR6NH052YH|          3|            1|          2|   N|                Y|\n",
            "| RUQK5N4WH8UN8|          5|            0|          0|   N|                Y|\n",
            "|R21LWSBQWWJYZ3|          5|            0|          0|   N|                Y|\n",
            "| R8W5S53RQ2DF7|          5|            0|          0|   N|                Y|\n",
            "|R3ENME3JQBWXZS|          5|            0|          1|   N|                Y|\n",
            "|R3URL5K7DHHYK7|          5|            1|          1|   N|                Y|\n",
            "|R22YISZKS35YZX|          5|            2|          3|   N|                Y|\n",
            "|R3IIOLWHWC297U|          5|            0|          0|   N|                Y|\n",
            "+--------------+-----------+-------------+-----------+----+-----------------+\n",
            "only showing top 20 rows\n",
            "\n"
          ]
        }
      ]
    },
    {
      "cell_type": "code",
      "metadata": {
        "id": "Exuo6ebUsCqW",
        "colab": {
          "base_uri": "https://localhost:8080/"
        },
        "outputId": "393d3ee4-cd15-41f4-b837-06a2ad9a5008"
      },
      "source": [
        "vine_vote=vine_df.filter(vine_df[\"total_votes\"]>=20)\n",
        "vine_vote=vine_vote.filter(vine_vote[\"helpful_votes\"]/vine_vote[\"total_votes\"]>=.5)\n",
        "vine_vote.show()"
      ],
      "execution_count": 7,
      "outputs": [
        {
          "output_type": "stream",
          "name": "stdout",
          "text": [
            "+--------------+-----------+-------------+-----------+----+-----------------+\n",
            "|     review_id|star_rating|helpful_votes|total_votes|vine|verified_purchase|\n",
            "+--------------+-----------+-------------+-----------+----+-----------------+\n",
            "|R1VCSDR38XTALJ|          1|           33|         40|   N|                N|\n",
            "|R1KMC6B2JRCZ3D|          3|           42|         47|   N|                N|\n",
            "| RBZE8H6SHVYWW|          3|           77|        110|   N|                N|\n",
            "|R3UN4H3BW9YTQA|          5|          358|        388|   N|                Y|\n",
            "| R2YKRQ8R3B2Q3|          5|           30|         35|   N|                N|\n",
            "|R1K00VBT0SMD4Z|          1|           50|         60|   N|                Y|\n",
            "|R2I9AO0VEBYJES|          4|           47|         57|   N|                Y|\n",
            "|R3Q7YJX1I5PDMU|          3|           22|         22|   N|                Y|\n",
            "| RJQQO26UPW1PI|          5|           76|         96|   N|                Y|\n",
            "|R2QJI05ZY7DNSR|          4|           59|         73|   N|                N|\n",
            "|R2MBLFKV5JFTKE|          1|           80|         89|   N|                N|\n",
            "|R1YYR1SP2TS30L|          1|           55|         70|   N|                Y|\n",
            "|R2DYKW0X2B93QG|          2|           50|         63|   N|                Y|\n",
            "|R14QWM0LJO6313|          5|           24|         28|   N|                Y|\n",
            "|R19H4AKN005KL8|          5|           19|         28|   N|                Y|\n",
            "|R27MJ6EZADWWPX|          5|           34|         37|   N|                Y|\n",
            "| RXZ3Q8ZGMVQ40|          1|           19|         30|   N|                Y|\n",
            "|R2GFDC3KTYASPJ|          5|           94|        118|   N|                Y|\n",
            "|R288AJX5OK9K4Q|          1|           46|         63|   N|                Y|\n",
            "|R25PC9R5T29WSK|          5|           21|         23|   N|                Y|\n",
            "+--------------+-----------+-------------+-----------+----+-----------------+\n",
            "only showing top 20 rows\n",
            "\n"
          ]
        }
      ]
    },
    {
      "cell_type": "code",
      "metadata": {
        "colab": {
          "base_uri": "https://localhost:8080/"
        },
        "id": "KELLnPmnpxZr",
        "outputId": "fdb31e14-80f4-491b-c508-fd6cea1a82a8"
      },
      "source": [
        "paid_vine=vine_vote.filter(vine_vote[\"vine\"]==\"Y\")\n",
        "paid_vine.show()"
      ],
      "execution_count": 8,
      "outputs": [
        {
          "output_type": "stream",
          "name": "stdout",
          "text": [
            "+--------------+-----------+-------------+-----------+----+-----------------+\n",
            "|     review_id|star_rating|helpful_votes|total_votes|vine|verified_purchase|\n",
            "+--------------+-----------+-------------+-----------+----+-----------------+\n",
            "|R3LLICBKRHLRJC|          4|           17|         22|   Y|                N|\n",
            "| RUD135S06DEVE|          5|           41|         51|   Y|                N|\n",
            "|R2WG8UL4SGDPDH|          4|           23|         25|   Y|                N|\n",
            "|R158AOKOA28WS2|          4|           18|         28|   Y|                N|\n",
            "| RGWV3QLJQXU9X|          5|          332|        380|   Y|                N|\n",
            "| RD0E1RZSSYGGN|          5|          261|        292|   Y|                N|\n",
            "|R3LGCTQH5ZMGO0|          5|           61|         68|   Y|                N|\n",
            "|R2H24YTRLARCZJ|          4|          277|        297|   Y|                N|\n",
            "| RYYTC9JTG7WPW|          5|          107|        134|   Y|                N|\n",
            "| RTB8H4YQYTLY3|          4|           58|         62|   Y|                N|\n",
            "| RMQYIMBVK7T8R|          5|           29|         36|   Y|                N|\n",
            "| R9KIBRBGB1M6W|          5|           26|         33|   Y|                N|\n",
            "|R122J9QGFCZTR0|          5|          324|        342|   Y|                N|\n",
            "|R2QIEBCHDXA2CW|          4|           55|         64|   Y|                N|\n",
            "|R1KG6E0W0Q5YCQ|          5|           27|         32|   Y|                N|\n",
            "|R3B6CGFNVWRWJ0|          5|           15|         23|   Y|                N|\n",
            "| RR66J5S5D8ZUP|          5|           25|         33|   Y|                N|\n",
            "|R3UC7TCOGT73CJ|          3|           33|         41|   Y|                N|\n",
            "| R32UKGZUYVA2S|          2|           64|         77|   Y|                N|\n",
            "|R1G2OXP36OPF40|          5|           20|         22|   Y|                N|\n",
            "+--------------+-----------+-------------+-----------+----+-----------------+\n",
            "only showing top 20 rows\n",
            "\n"
          ]
        }
      ]
    },
    {
      "cell_type": "code",
      "metadata": {
        "colab": {
          "base_uri": "https://localhost:8080/"
        },
        "id": "ccnSfVPqqiIG",
        "outputId": "156a23ae-cd11-45d1-9af5-05a30f9150ca"
      },
      "source": [
        "free_vine=vine_vote.filter(vine_vote[\"vine\"]==\"N\")\n",
        "free_vine.show()"
      ],
      "execution_count": 9,
      "outputs": [
        {
          "output_type": "stream",
          "name": "stdout",
          "text": [
            "+--------------+-----------+-------------+-----------+----+-----------------+\n",
            "|     review_id|star_rating|helpful_votes|total_votes|vine|verified_purchase|\n",
            "+--------------+-----------+-------------+-----------+----+-----------------+\n",
            "|R1VCSDR38XTALJ|          1|           33|         40|   N|                N|\n",
            "|R1KMC6B2JRCZ3D|          3|           42|         47|   N|                N|\n",
            "| RBZE8H6SHVYWW|          3|           77|        110|   N|                N|\n",
            "|R3UN4H3BW9YTQA|          5|          358|        388|   N|                Y|\n",
            "| R2YKRQ8R3B2Q3|          5|           30|         35|   N|                N|\n",
            "|R1K00VBT0SMD4Z|          1|           50|         60|   N|                Y|\n",
            "|R2I9AO0VEBYJES|          4|           47|         57|   N|                Y|\n",
            "|R3Q7YJX1I5PDMU|          3|           22|         22|   N|                Y|\n",
            "| RJQQO26UPW1PI|          5|           76|         96|   N|                Y|\n",
            "|R2QJI05ZY7DNSR|          4|           59|         73|   N|                N|\n",
            "|R2MBLFKV5JFTKE|          1|           80|         89|   N|                N|\n",
            "|R1YYR1SP2TS30L|          1|           55|         70|   N|                Y|\n",
            "|R2DYKW0X2B93QG|          2|           50|         63|   N|                Y|\n",
            "|R14QWM0LJO6313|          5|           24|         28|   N|                Y|\n",
            "|R19H4AKN005KL8|          5|           19|         28|   N|                Y|\n",
            "|R27MJ6EZADWWPX|          5|           34|         37|   N|                Y|\n",
            "| RXZ3Q8ZGMVQ40|          1|           19|         30|   N|                Y|\n",
            "|R2GFDC3KTYASPJ|          5|           94|        118|   N|                Y|\n",
            "|R288AJX5OK9K4Q|          1|           46|         63|   N|                Y|\n",
            "|R25PC9R5T29WSK|          5|           21|         23|   N|                Y|\n",
            "+--------------+-----------+-------------+-----------+----+-----------------+\n",
            "only showing top 20 rows\n",
            "\n"
          ]
        }
      ]
    },
    {
      "cell_type": "code",
      "metadata": {
        "colab": {
          "base_uri": "https://localhost:8080/"
        },
        "id": "hnGhZ1aZq45R",
        "outputId": "9a66861b-eb55-4f88-d29b-57ecd3155ca5"
      },
      "source": [
        "total_paid=paid_vine.count()\n",
        "total_paid"
      ],
      "execution_count": 16,
      "outputs": [
        {
          "output_type": "execute_result",
          "data": {
            "text/plain": [
              "261"
            ]
          },
          "metadata": {},
          "execution_count": 16
        }
      ]
    },
    {
      "cell_type": "code",
      "metadata": {
        "colab": {
          "base_uri": "https://localhost:8080/"
        },
        "id": "hv0tnUubrKyn",
        "outputId": "24cb63b8-194a-4720-f1bd-a9429b4a7d7b"
      },
      "source": [
        "paid_five_star=paid_vine[paid_vine[\"star_rating\"]==5].count()\n",
        "paid_five_star"
      ],
      "execution_count": 17,
      "outputs": [
        {
          "output_type": "execute_result",
          "data": {
            "text/plain": [
              "106"
            ]
          },
          "metadata": {},
          "execution_count": 17
        }
      ]
    },
    {
      "cell_type": "code",
      "metadata": {
        "colab": {
          "base_uri": "https://localhost:8080/"
        },
        "id": "pnu3H6Z2rK_x",
        "outputId": "1ff6f405-14ca-4b66-a024-6b8aaffb9961"
      },
      "source": [
        "paid_five_star/total_paid"
      ],
      "execution_count": 12,
      "outputs": [
        {
          "output_type": "execute_result",
          "data": {
            "text/plain": [
              "0.4061302681992337"
            ]
          },
          "metadata": {},
          "execution_count": 12
        }
      ]
    },
    {
      "cell_type": "code",
      "metadata": {
        "colab": {
          "base_uri": "https://localhost:8080/"
        },
        "id": "TlRInHEirxp8",
        "outputId": "8257ce00-75f2-4173-ee46-15f7e3d3d429"
      },
      "source": [
        "total_free=free_vine.count()\n",
        "total_free"
      ],
      "execution_count": 18,
      "outputs": [
        {
          "output_type": "execute_result",
          "data": {
            "text/plain": [
              "24040"
            ]
          },
          "metadata": {},
          "execution_count": 18
        }
      ]
    },
    {
      "cell_type": "code",
      "metadata": {
        "colab": {
          "base_uri": "https://localhost:8080/"
        },
        "id": "NhdxZxcVrx0X",
        "outputId": "6b6d6031-5cdd-4312-a066-7b97b799a175"
      },
      "source": [
        "free_five_star=free_vine[free_vine[\"star_rating\"]==5].count()\n",
        "free_five_star"
      ],
      "execution_count": 19,
      "outputs": [
        {
          "output_type": "execute_result",
          "data": {
            "text/plain": [
              "10899"
            ]
          },
          "metadata": {},
          "execution_count": 19
        }
      ]
    },
    {
      "cell_type": "code",
      "metadata": {
        "colab": {
          "base_uri": "https://localhost:8080/"
        },
        "id": "tXQMo7mprx_1",
        "outputId": "2883e636-74e3-4847-94be-6b3f7c2af226"
      },
      "source": [
        "free_five_star/total_free"
      ],
      "execution_count": 15,
      "outputs": [
        {
          "output_type": "execute_result",
          "data": {
            "text/plain": [
              "0.453369384359401"
            ]
          },
          "metadata": {},
          "execution_count": 15
        }
      ]
    }
  ]
}